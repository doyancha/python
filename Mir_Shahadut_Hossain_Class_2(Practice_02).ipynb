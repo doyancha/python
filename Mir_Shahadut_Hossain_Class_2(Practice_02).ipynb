{
  "cells": [
    {
      "cell_type": "markdown",
      "metadata": {
        "id": "2Yeb66OvFRiP"
      },
      "source": [
        "### `Problem 1` - Print the following pattern. Write a program to use for loop to print the following reverse number pattern.\n",
        "\n",
        "```bash\n",
        "5 4 3 2 1\n",
        "4 3 2 1\n",
        "3 2 1\n",
        "2 1\n",
        "1\n",
        "```"
      ]
    },
    {
      "cell_type": "code",
      "execution_count": null,
      "metadata": {
        "id": "I_rywD-UFTkY",
        "colab": {
          "base_uri": "https://localhost:8080/"
        },
        "outputId": "db979848-c0ae-444d-e87e-97ebd8ed238c"
      },
      "outputs": [
        {
          "output_type": "stream",
          "name": "stdout",
          "text": [
            "5 4 3 2 1 \n",
            "4 3 2 1 \n",
            "3 2 1 \n",
            "2 1 \n",
            "1 \n",
            "\n"
          ]
        }
      ],
      "source": [
        "# Code here\n",
        "rows = 5\n",
        "for i in range(0, rows + 1):\n",
        "    for j in range(rows - i, 0, -1):\n",
        "        print(j, end=' ')\n",
        "    print()"
      ]
    },
    {
      "cell_type": "markdown",
      "metadata": {
        "id": "n0baB62wFVV5"
      },
      "source": [
        "### `Problem 2`: Print the following pattern.\n",
        "\n",
        "```bash\n",
        "*\n",
        "* *\n",
        "* * *\n",
        "* * * *\n",
        "* * * * *\n",
        "* * * *\n",
        "* * *\n",
        "* *\n",
        "*\n",
        "```"
      ]
    },
    {
      "cell_type": "code",
      "execution_count": null,
      "metadata": {
        "id": "wTD92u-bFbVT",
        "colab": {
          "base_uri": "https://localhost:8080/"
        },
        "outputId": "ffe18fc8-5f4f-4e6a-d900-b2d15b3ad653"
      },
      "outputs": [
        {
          "output_type": "stream",
          "name": "stdout",
          "text": [
            "* \r\n",
            "* * \r\n",
            "* * * \r\n",
            "* * * * \r\n",
            "* * * * * \r\n",
            "* * * * \r\n",
            "* * * \r\n",
            "* * \r\n",
            "* \r\n",
            "\r\n"
          ]
        }
      ],
      "source": [
        "# Code here\n",
        "rows = 5\n",
        "for i in range(0, rows):\n",
        "    for j in range(0, i + 1):\n",
        "        print(\"*\", end=' ')\n",
        "    print(\"\\r\")\n",
        "\n",
        "for i in range(rows, 0, -1):\n",
        "    for j in range(0, i - 1):\n",
        "        print(\"*\", end=' ')\n",
        "    print(\"\\r\")"
      ]
    },
    {
      "cell_type": "markdown",
      "metadata": {
        "id": "M7MzBABdFc8b"
      },
      "source": [
        "### `Problem 3`:Write a program to pring the following pattern\n",
        "\n",
        "        *\n",
        "      * * *\n",
        "    * * * * *\n",
        "   * * * * * * *\n",
        "* * * * * * * * *\n"
      ]
    },
    {
      "cell_type": "code",
      "execution_count": null,
      "metadata": {
        "id": "ul-tJ0meF2Jr",
        "colab": {
          "base_uri": "https://localhost:8080/"
        },
        "outputId": "207baaa1-d700-4233-82c5-f7bcdea3b37d"
      },
      "outputs": [
        {
          "output_type": "stream",
          "name": "stdout",
          "text": [
            "  * \n",
            " * * \n",
            "* * * \n"
          ]
        }
      ],
      "source": [
        "# Code here\n",
        "rows = 3\n",
        "i = 0\n",
        "i = rows - 1\n",
        "while i >= 0:\n",
        "    j = 0\n",
        "    while j < i:\n",
        "        print('', end=' ')\n",
        "        j += 1\n",
        "    k = i\n",
        "    while k <= rows - 1:\n",
        "        print('*', end=' ')\n",
        "        k += 1\n",
        "    print('')\n",
        "    i -= 1"
      ]
    },
    {
      "cell_type": "markdown",
      "metadata": {
        "id": "gU4m8eC3GHqH"
      },
      "source": [
        "### `Problem 4`:Write a program to print the following pattern\n",
        "\n",
        "1\n",
        "\n",
        "2 1\n",
        "\n",
        "3 2 1\n",
        "\n",
        "4 3 2 1\n",
        "\n",
        "5 4 3 2 1"
      ]
    },
    {
      "cell_type": "code",
      "execution_count": null,
      "metadata": {
        "id": "HfGPUtmJGQf6",
        "colab": {
          "base_uri": "https://localhost:8080/"
        },
        "outputId": "6cc2e65d-17d5-45fd-860a-678ddebdcf50"
      },
      "outputs": [
        {
          "output_type": "stream",
          "name": "stdout",
          "text": [
            "1 \n",
            "2 1 \n",
            "3 2 1 \n",
            "4 3 2 1 \n",
            "5 4 3 2 1 \n"
          ]
        }
      ],
      "source": [
        "# Code here\n",
        "rows = 6\n",
        "for i in range(1, rows):\n",
        "    for j in range(i, 0, -1):\n",
        "        print(j, end=' ')\n",
        "    print(\"\")"
      ]
    },
    {
      "cell_type": "markdown",
      "metadata": {
        "id": "98TZ1X0hGSI-"
      },
      "source": [
        "### `Problem 5`: Write a Python Program to Find the Sum of the Series till the nth term:<br>\n",
        "1 + x^2/2 + x^3/3 + … x^n/n<br>\n",
        "n will be provided by the user"
      ]
    },
    {
      "cell_type": "code",
      "execution_count": null,
      "metadata": {
        "id": "3ZWu99XUGuhU",
        "colab": {
          "base_uri": "https://localhost:8080/"
        },
        "outputId": "5e93c1f7-9d72-436d-9c7f-4520daa0576c"
      },
      "outputs": [
        {
          "output_type": "stream",
          "name": "stdout",
          "text": [
            "Enter the number10\n",
            "Enter the nth number3\n",
            "384.3333333333333\n"
          ]
        }
      ],
      "source": [
        "# Code here\n",
        "a = int(input(\"Enter the number\"))\n",
        "n = int(input(\"Enter the nth number\"))\n",
        "sum = 1\n",
        "for i in range (2 , n+1):\n",
        " sum = sum+((a**i ) /i )\n",
        "\n",
        "print(sum)"
      ]
    },
    {
      "cell_type": "markdown",
      "metadata": {
        "id": "matpUyxTH4hQ"
      },
      "source": [
        "### `Problem 6` - Find the sum of the series upto n terms.\n",
        "Write a program to calculate the sum of series up to n term. For example, if n =5 the series will become 2 + 22 + 222 + 2222 + 22222 = 24690. Take the user input and then calculate. And the output style should match which is given in the example.\n",
        "\n",
        "**Example 1:**\n",
        "\n",
        "`Input:`\n",
        "```bash\n",
        "5\n",
        "```\n",
        "\n",
        "`Output:`\n",
        "\n",
        "```bash\n",
        "2+22+222+2222+22222\n",
        "Sum of above series is: 24690\n",
        "```"
      ]
    },
    {
      "cell_type": "code",
      "execution_count": 14,
      "metadata": {
        "id": "jL68XMU8H3xM",
        "colab": {
          "base_uri": "https://localhost:8080/"
        },
        "outputId": "70888b97-7486-4c47-ba59-503822ef13c3"
      },
      "outputs": [
        {
          "output_type": "stream",
          "name": "stdout",
          "text": [
            "Enter the number of terms: 5\n",
            "2+22+222+2222+22222+\n",
            "Sum of above series is : 24690\n"
          ]
        }
      ],
      "source": [
        "# Code here\n",
        "number_of_terms = int(input('Enter the number of terms: '))\n",
        "sum1=0\n",
        "for i in range (1,number_of_terms+1):\n",
        "    num=eval('2'*i)\n",
        "    sum1+=num\n",
        "    print(num, end='+')\n",
        "\n",
        "print()\n",
        "print(\"Sum of above series is :\",sum1)"
      ]
    },
    {
      "cell_type": "markdown",
      "metadata": {
        "id": "l7Jpeuq7IeT-"
      },
      "source": [
        "### `Problem 7`: Write a program to print all the unique combinations of 1,2,3 and 4\n",
        "\n",
        "`Output`:\n",
        "```\n",
        "1 2 3 4\n",
        "1 2 4 3\n",
        "1 3 2 4\n",
        "1 3 4 2\n",
        "1 4 2 3\n",
        "1 4 3 2\n",
        "2 1 3 4\n",
        "2 1 4 3\n",
        "2 3 1 4\n",
        "2 3 4 1\n",
        "2 4 1 3\n",
        ".\n",
        ".\n",
        "and so on\n",
        "```"
      ]
    },
    {
      "cell_type": "code",
      "execution_count": 23,
      "metadata": {
        "id": "Jiy1u7PvJRbb",
        "colab": {
          "base_uri": "https://localhost:8080/"
        },
        "outputId": "f3191a54-4ca8-4a50-9e2e-edb8872269f4"
      },
      "outputs": [
        {
          "output_type": "stream",
          "name": "stdout",
          "text": [
            "1 2 1 2\n",
            "1 2 1 3\n",
            "1 2 1 4\n",
            "1 2 3 2\n",
            "1 2 3 4\n",
            "1 2 4 2\n",
            "1 2 4 3\n",
            "1 3 1 2\n",
            "1 3 1 3\n",
            "1 3 1 4\n",
            "1 3 2 3\n",
            "1 3 2 4\n",
            "1 3 4 2\n",
            "1 3 4 3\n",
            "1 4 1 2\n",
            "1 4 1 3\n",
            "1 4 1 4\n",
            "1 4 2 3\n",
            "1 4 2 4\n",
            "1 4 3 2\n",
            "1 4 3 4\n",
            "2 1 2 1\n",
            "2 1 2 3\n",
            "2 1 2 4\n",
            "2 1 3 1\n",
            "2 1 3 4\n",
            "2 1 4 1\n",
            "2 1 4 3\n",
            "2 3 1 3\n",
            "2 3 1 4\n",
            "2 3 2 1\n",
            "2 3 2 3\n",
            "2 3 2 4\n",
            "2 3 4 1\n",
            "2 3 4 3\n",
            "2 4 1 3\n",
            "2 4 1 4\n",
            "2 4 2 1\n",
            "2 4 2 3\n",
            "2 4 2 4\n",
            "2 4 3 1\n",
            "2 4 3 4\n",
            "3 1 2 1\n",
            "3 1 2 4\n",
            "3 1 3 1\n",
            "3 1 3 2\n",
            "3 1 3 4\n",
            "3 1 4 1\n",
            "3 1 4 2\n",
            "3 2 1 2\n",
            "3 2 1 4\n",
            "3 2 3 1\n",
            "3 2 3 2\n",
            "3 2 3 4\n",
            "3 2 4 1\n",
            "3 2 4 2\n",
            "3 4 1 2\n",
            "3 4 1 4\n",
            "3 4 2 1\n",
            "3 4 2 4\n",
            "3 4 3 1\n",
            "3 4 3 2\n",
            "3 4 3 4\n",
            "4 1 2 1\n",
            "4 1 2 3\n",
            "4 1 3 1\n",
            "4 1 3 2\n",
            "4 1 4 1\n",
            "4 1 4 2\n",
            "4 1 4 3\n",
            "4 2 1 2\n",
            "4 2 1 3\n",
            "4 2 3 1\n",
            "4 2 3 2\n",
            "4 2 4 1\n",
            "4 2 4 2\n",
            "4 2 4 3\n",
            "4 3 1 2\n",
            "4 3 1 3\n",
            "4 3 2 1\n",
            "4 3 2 3\n",
            "4 3 4 1\n",
            "4 3 4 2\n",
            "4 3 4 3\n"
          ]
        }
      ],
      "source": [
        "# Code here\n",
        "a = [1, 2, 3,4]\n",
        "\n",
        "for i in range(4):\n",
        "    for j in range(4):\n",
        "        for k in range(4):\n",
        "            for l in range (4):\n",
        "            # Check if the indexes are not the same\n",
        "              if i != j and j != k and k !=l  and i != l:\n",
        "                print(a[i], a[j], a[k],a[l])"
      ]
    },
    {
      "cell_type": "code",
      "source": [],
      "metadata": {
        "id": "rh_JH3rwNPHF"
      },
      "execution_count": null,
      "outputs": []
    }
  ],
  "metadata": {
    "colab": {
      "provenance": []
    },
    "kernelspec": {
      "display_name": "Python 3",
      "name": "python3"
    },
    "language_info": {
      "name": "python"
    }
  },
  "nbformat": 4,
  "nbformat_minor": 0
}