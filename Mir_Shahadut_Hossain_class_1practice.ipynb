{
  "cells": [
    {
      "cell_type": "markdown",
      "metadata": {
        "id": "A05OG15VqOPF"
      },
      "source": [
        "# Task : Class 1\n",
        "Solve these questions own your own and try to test yourself what you have learned in the session.\n",
        "\n",
        "Happy Learning!"
      ]
    },
    {
      "cell_type": "markdown",
      "metadata": {
        "id": "2doIXf8bqe9_"
      },
      "source": [
        "### Q1 :- Print the given strings as per stated format.\n",
        "\n",
        "**Given strings**:\n",
        "```\n",
        "\"Machine\" \"Learning\" \"With Python and R\" \"Program\"\n",
        "\"By\" \"Datasolution360\"\n",
        "```\n",
        "**Output**:\n",
        "```\n",
        "Machine-Learning-With Python and R-Program-Conducted-By-Datasolution360\n",
        "```\n",
        "\n",
        "Concept- [Seperator and End]"
      ]
    },
    {
      "cell_type": "code",
      "execution_count": 6,
      "metadata": {
        "id": "-em6d3KErDtp",
        "outputId": "aac6dab9-a865-4b8b-ad9d-79c0ddfe717a",
        "colab": {
          "base_uri": "https://localhost:8080/"
        }
      },
      "outputs": [
        {
          "output_type": "stream",
          "name": "stdout",
          "text": [
            "Machine-Learning-With Python and R-Program-Conducted-By-Datasolution360\n"
          ]
        }
      ],
      "source": [
        "# Write your code here\n",
        "print(\"Machine\",\"Learning\",\"With Python and R\",\"Program\",\"Conducted\",\"By\",\"Datasolution360\",sep='-' )\n"
      ]
    },
    {
      "cell_type": "markdown",
      "metadata": {
        "id": "1KUpN7ZTrC3_"
      },
      "source": [
        "### Q2:- Write a program that will convert celsius value to fahrenheit."
      ]
    },
    {
      "cell_type": "code",
      "execution_count": 7,
      "metadata": {
        "id": "yxKYhYQiqWfj",
        "outputId": "eba21d1c-9acf-4429-f2d9-e986e7d78086",
        "colab": {
          "base_uri": "https://localhost:8080/"
        }
      },
      "outputs": [
        {
          "output_type": "stream",
          "name": "stdout",
          "text": [
            "Enter the celsius value: 36\n",
            "tempereture in fahrenheit:  96.8\n"
          ]
        }
      ],
      "source": [
        "# Write your code here\n",
        "celsius=float(input('Enter the celsius value: '))\n",
        "fahrenheit=(1.8*celsius)+32\n",
        "print(\"tempereture in fahrenheit: \",fahrenheit)"
      ]
    },
    {
      "cell_type": "markdown",
      "metadata": {
        "id": "RLrOBBJurLB2"
      },
      "source": [
        "### Q3:- Take 2 numbers as input from the user.Write a program to swap the numbers without using any special python syntax."
      ]
    },
    {
      "cell_type": "code",
      "execution_count": 16,
      "metadata": {
        "id": "yPn7if0TrJ4F",
        "outputId": "50473a2b-ed44-465f-b853-95c1afdaaa42",
        "colab": {
          "base_uri": "https://localhost:8080/"
        }
      },
      "outputs": [
        {
          "output_type": "stream",
          "name": "stdout",
          "text": [
            "Enter your first number: 5\n",
            "Enter your second number: 4\n",
            "Before swapping your numbers:  5 4\n",
            "After swapping your numbers:  4 5\n"
          ]
        }
      ],
      "source": [
        "# Write your code here\n",
        "numb_1=int(input('Enter your first number: '))\n",
        "numb_2=int(input('Enter your second number: '))\n",
        "print(\"Before swapping your numbers: \",numb_1,numb_2)\n",
        "numb_1,numb_2=numb_2,numb_1\n",
        "print(\"After swapping your numbers: \",numb_1,numb_2)"
      ]
    },
    {
      "cell_type": "markdown",
      "metadata": {
        "id": "VLrhg-FRsHjR"
      },
      "source": [
        "3### Q4:- Write a program to find the simple interest when the value of principle,rate of interest and time period is provided by the user.\n"
      ]
    },
    {
      "cell_type": "code",
      "execution_count": 24,
      "metadata": {
        "id": "s40DlReZsTmY",
        "outputId": "34e8a8f6-555b-42c2-e84a-930455482a3d",
        "colab": {
          "base_uri": "https://localhost:8080/"
        }
      },
      "outputs": [
        {
          "output_type": "stream",
          "name": "stdout",
          "text": [
            "Enter your principal value: 1000\n",
            "Enter your rate of interest: 10\n",
            "Enter your period of time: 10\n",
            "Total interest after 10.0 years is : 1000.0.\n"
          ]
        }
      ],
      "source": [
        "# Write your code here\n",
        "principal=float(input('Enter your principal value: '))\n",
        "rate_of_interest=float(input('Enter your rate of interest: '))\n",
        "time=float(input('Enter your period of time: '))\n",
        "interest=principal*rate_of_interest*time/100\n",
        "#print(interest)\n",
        "\n",
        "print(\"Total interest after {} years is : {}.\".format(time,interest))\n"
      ]
    },
    {
      "cell_type": "markdown",
      "metadata": {
        "id": "LMy0BTUktYKa"
      },
      "source": [
        "### Q5:- Write a program that will tell the number of dogs and chicken are there when the user will provide the value of total heads and legs.\n",
        "\n",
        "For example:\n",
        "Input:\n",
        "heads -> 4\n",
        "legs -> 12\n",
        "<br>\n",
        "Output:\n",
        "dogs -> 2\n",
        "chicken -> 2\n",
        "\n",
        "\n",
        "\n"
      ]
    },
    {
      "cell_type": "code",
      "execution_count": 41,
      "metadata": {
        "id": "XSBvJoA4tXaG",
        "outputId": "7738d505-9c26-40fe-c2ae-93b84b034b7a",
        "colab": {
          "base_uri": "https://localhost:8080/"
        }
      },
      "outputs": [
        {
          "output_type": "stream",
          "name": "stdout",
          "text": [
            "Enter the total number of heads:10\n",
            "Enter the total number of legs:38\n",
            "number of chikens is : 1 and number of dogs is : 9\n"
          ]
        }
      ],
      "source": [
        "# Write your code here\n",
        "\n",
        "\n",
        "heads = int(input('Enter the total number of heads:'))\n",
        "legs = int(input('Enter the total number of legs:'))\n",
        "if legs % 2 !=0 or heads ==0 or heads > legs:\n",
        "   print('No solution')\n",
        "else:\n",
        "   r = int((legs + (-2*heads))/2)\n",
        "   c = int(heads - r)\n",
        "   print('number of chikens is : {} and number of dogs is : {}'.format(c,r))"
      ]
    },
    {
      "cell_type": "markdown",
      "metadata": {
        "id": "gJ7C5kZYt4BP"
      },
      "source": [
        "### Q6:- Write a program to find the sum of squares of first n natural numbers where n will be provided by the user."
      ]
    },
    {
      "cell_type": "code",
      "execution_count": 35,
      "metadata": {
        "id": "_tHsmEHzt2nX",
        "outputId": "7c4fe73c-628a-44da-e610-456a9a9946d9",
        "colab": {
          "base_uri": "https://localhost:8080/"
        }
      },
      "outputs": [
        {
          "output_type": "stream",
          "name": "stdout",
          "text": [
            "Enter your number : 4\n",
            "Sum of square of first 4 natural number is 30.0 :\n"
          ]
        }
      ],
      "source": [
        "# Write your code here\n",
        "number=int(input('Enter your number : '))\n",
        "sum_of_sqquare=number*(number+1)*(2*number+1)/6\n",
        "print(\"Sum of square of first {} natural number is {} :\".format(number,sum_of_sqquare))"
      ]
    },
    {
      "cell_type": "markdown",
      "metadata": {
        "id": "FHrMM7g-yG1h"
      },
      "source": [
        "### Q7:- Given the first 2 terms of an Arithmetic Series.Find the Nth term of the series. Assume all inputs are provided by the user."
      ]
    },
    {
      "cell_type": "code",
      "execution_count": 37,
      "metadata": {
        "id": "go4_kmZmyVSx",
        "outputId": "3cf96b2e-4c6b-410f-c978-e9ffd0070a00",
        "colab": {
          "base_uri": "https://localhost:8080/"
        }
      },
      "outputs": [
        {
          "output_type": "stream",
          "name": "stdout",
          "text": [
            "Enter the first term : 6\n",
            "Enter the second term : 9\n",
            "Enter the value of N :10\n",
            "The 10th term of the Arithmetic Series is : 33.\n"
          ]
        }
      ],
      "source": [
        "# Write your code here\n",
        "numb_1=int(input('Enter the first term : '))\n",
        "numb_2=int(input('Enter the second term : ' ))\n",
        "n=int(input('Enter the value of N :'))\n",
        "d=numb_2-numb_1\n",
        "a= numb_1+((n-1))*d\n",
        "print(\"The {}th term of the Arithmetic Series is : {}.\".format(n,a))"
      ]
    },
    {
      "cell_type": "markdown",
      "metadata": {
        "id": "QgyRX_es1oum"
      },
      "source": [
        "### Q8:- Given 2 fractions, find the sum of those 2 fractions.Take the numerator and denominator values of the fractions from the user."
      ]
    },
    {
      "cell_type": "code",
      "execution_count": 39,
      "metadata": {
        "id": "X05xqFS1yW16",
        "outputId": "8c2985c3-3887-4d49-8426-7bbce1492b86",
        "colab": {
          "base_uri": "https://localhost:8080/"
        }
      },
      "outputs": [
        {
          "output_type": "stream",
          "name": "stdout",
          "text": [
            "Enter the numerator of first number : 5\n",
            "ENter the denomuretaor of the first number : 6\n",
            "Enter the numerator of second number : 3\n",
            "ENter the denomuretaor of the second number : 2\n",
            "Sum of the fraction is : 2.33\n"
          ]
        }
      ],
      "source": [
        "# Write your code here\n",
        "a1=int(input('Enter the numerator of first number : '))\n",
        "a2=int(input('ENter the denomuretaor of the first number : '))\n",
        "b1=int(input('Enter the numerator of second number : '))\n",
        "b2=int(input('ENter the denomuretaor of the second number : '))\n",
        "sum=(a1/a2)+(b1/b2)\n",
        "sum=round(sum,2)\n",
        "print(\"Sum of the fraction is : {}\".format(sum))"
      ]
    },
    {
      "cell_type": "markdown",
      "metadata": {
        "id": "eaql38ln13u7"
      },
      "source": [
        "### Q9:- Given the height, width and breadth of a milk tank, you have to find out how many glasses of milk can be obtained? Assume all the inputs are provided by the user.\n",
        "\n",
        "\n",
        "\n",
        "Input:<br>\n",
        "Dimensions of the milk tank<br>\n",
        "H = 20cm, L = 20cm, B = 20cm\n",
        "<br><br>\n",
        "Dimensions of the glass<br>\n",
        "h = 3cm, r = 1cm"
      ]
    },
    {
      "cell_type": "code",
      "execution_count": 43,
      "metadata": {
        "id": "FePZqno74eWv",
        "outputId": "8db35791-08a2-4f99-c9b7-33a968fac43a",
        "colab": {
          "base_uri": "https://localhost:8080/"
        }
      },
      "outputs": [
        {
          "output_type": "stream",
          "name": "stdout",
          "text": [
            "Emter the height of the milk tank (cm): 20\n",
            "Emter the lenght of the milk tank (cm): 20\n",
            "Emter the breadth of the milk tank (cm): 20\n",
            "Emter the height of the glass (cm): 3\n",
            "Emter the redius of the glass (cm): 1\n",
            "Number of glasses of milk can be obtained : 848\n"
          ]
        }
      ],
      "source": [
        "# Write your code here\n",
        "h1=float(input('Emter the height of the milk tank (cm): '))\n",
        "l=float(input('Emter the lenght of the milk tank (cm): '))\n",
        "b=float(input('Emter the breadth of the milk tank (cm): '))\n",
        "h2=float(input('Emter the height of the glass (cm): '))\n",
        "r=float(input('Emter the redius of the glass (cm): '))\n",
        "v_milk=h1*l*b\n",
        "v_glass=(22/7)*(r**2)*h2\n",
        "number_of_glass=int(v_milk/v_glass)\n",
        "print(\"Number of glasses of milk can be obtained : {}\".format(number_of_glass))\n"
      ]
    },
    {
      "cell_type": "code",
      "source": [],
      "metadata": {
        "id": "ad3mDoG8W4J6"
      },
      "execution_count": null,
      "outputs": []
    }
  ],
  "metadata": {
    "colab": {
      "provenance": []
    },
    "kernelspec": {
      "display_name": "Python 3",
      "name": "python3"
    },
    "language_info": {
      "name": "python"
    }
  },
  "nbformat": 4,
  "nbformat_minor": 0
}