{
  "cells": [
    {
      "cell_type": "markdown",
      "metadata": {
        "id": "5vEpPh8C2pE4"
      },
      "source": [
        "### `Problem 1`: Write a program that will take user input of cost price and selling price and determines whether its a loss or a profit."
      ]
    },
    {
      "cell_type": "code",
      "execution_count": null,
      "metadata": {
        "id": "jDwBXlkO2sfl",
        "colab": {
          "base_uri": "https://localhost:8080/"
        },
        "outputId": "55ace24a-9218-4c7d-dd83-8daa39fcd08b"
      },
      "outputs": [
        {
          "output_type": "stream",
          "name": "stdout",
          "text": [
            "Enter the cost of the product: 40\n",
            "Enter the selling price of the product: 50\n",
            "It is a profit with 10 taka \n"
          ]
        }
      ],
      "source": [
        "# Write code here\n",
        "cost=int(input('Enter the cost of the product: '))\n",
        "sell=int(input('Enter the selling price of the product: '))\n",
        "if cost>sell:\n",
        "  loss=cost-sell\n",
        "  print(f\"It is a loss with {loss} taka\")\n",
        "else:\n",
        "  profit=sell-cost\n",
        "  print(f\"It is a profit with {profit} taka \")"
      ]
    },
    {
      "cell_type": "markdown",
      "metadata": {
        "id": "J_FG_cJW2ugT"
      },
      "source": [
        "### `Problem 2`: Write a menu-driven program -\n",
        "1. cm to ft\n",
        "2. km to miles\n",
        "3. USD to INR\n",
        "4. exit"
      ]
    },
    {
      "cell_type": "code",
      "execution_count": null,
      "metadata": {
        "id": "yBHhaCGQ2zpD",
        "colab": {
          "base_uri": "https://localhost:8080/"
        },
        "outputId": "7192b3a8-aacd-49c4-ff7f-aac1b9a2ee9f"
      },
      "outputs": [
        {
          "output_type": "stream",
          "name": "stdout",
          "text": [
            "1. cm to ft \n",
            "2. km to miles \n",
            "3. USD to INR \n",
            "4. exit\n",
            "Enter your choice (1/2/3/4) :4\n",
            "you choice to exit\n"
          ]
        }
      ],
      "source": [
        "print(\"1. cm to ft \")\n",
        "print(\"2. km to miles \")\n",
        "print(\"3. USD to INR \")\n",
        "print(\"4. exit\")\n",
        "choice=int(input('Enter your choice (1/2/3/4) :'))\n",
        "if choice == 1:\n",
        "  cm=float(input(\"Enter the cm :\"))\n",
        "  ft=cm*0.033\n",
        "  print(f\"{cm}cm = {ft}ft\")\n",
        "elif choice == 2:\n",
        "  km=float(input('Enter the km: '))\n",
        "  miles=km*0.62\n",
        "  print(f\"{km} km = {miles} miles\")\n",
        "elif choice == 3:\n",
        "  USD=float(input('Enter the USD: '))\n",
        "  INR=USD*85\n",
        "  print(f\"{USD} USD = {INR} INR\")\n",
        "else:\n",
        "  print(\"you choice to exit\")\n",
        "\n",
        "\n"
      ]
    },
    {
      "cell_type": "markdown",
      "metadata": {
        "id": "LJJ30_Yw27ZU"
      },
      "source": [
        "\\### `Problem 3` -  Display Fibonacci series up to 10 terms.\n",
        "\n",
        "*Note: The Fibonacci Sequence is a series of numbers. The next number is found by adding up the two numbers before it. The first two numbers are 0 and 1. For example, 0, 1, 1, 2, 3, 5, 8, 13, 21. The next number in this series above is 13+21 = 34*"
      ]
    },
    {
      "cell_type": "code",
      "execution_count": null,
      "metadata": {
        "id": "ae_1rpe52-5R",
        "colab": {
          "base_uri": "https://localhost:8080/"
        },
        "outputId": "51bd2916-a508-4d38-d772-a5e17207cfec"
      },
      "outputs": [
        {
          "output_type": "stream",
          "name": "stdout",
          "text": [
            "0 1 1 2 3 5 8 13 21 34 \n"
          ]
        }
      ],
      "source": [
        "# Write code here\n",
        "# when nth term is fixed like 10th time\n",
        "n=10\n",
        "a=0\n",
        "b=1\n",
        "next=a\n",
        "count=1\n",
        "while count<=n:\n",
        "  print(next, end=\" \")\n",
        "  count +=1\n",
        "  a=b\n",
        "  b=next\n",
        "  next=a+b\n",
        "print()\n"
      ]
    },
    {
      "cell_type": "code",
      "source": [
        "#Display Fibonacci series up to nth term (dynamic)\n",
        "nterms=int(input(\"Enter the terms of fibonacci series : \"))\n",
        "#first two terms\n",
        "a=0\n",
        "b=1\n",
        "next=a\n",
        "count=1\n",
        "if nterms<=0:\n",
        "  print(\"please enter a positive intiger : \")\n",
        "elif nterms == 1:\n",
        "  print(f\"fibonacchi series is {a} \")\n",
        "else:\n",
        "  while count< nterms:\n",
        "    print(next, end=\" \")\n",
        "    count +=1\n",
        "    a=b\n",
        "    b=next\n",
        "    next= a+b\n",
        "\n",
        "print()"
      ],
      "metadata": {
        "colab": {
          "base_uri": "https://localhost:8080/"
        },
        "id": "DhPsEJceQCdb",
        "outputId": "c94df30c-6dba-4269-9279-9838a07215a9"
      },
      "execution_count": null,
      "outputs": [
        {
          "output_type": "stream",
          "name": "stdout",
          "text": [
            "Enter the terms of fibonacci series : 10\n",
            "0 1 1 2 3 5 8 13 21 \n"
          ]
        }
      ]
    },
    {
      "cell_type": "markdown",
      "metadata": {
        "id": "pk_I_S4m3PT5"
      },
      "source": [
        "### `Problem 4` - Find the factorial of a given number.\n",
        "\n",
        "Write a program to use the loop to find the factorial of a given number.\n",
        "\n",
        "The factorial (symbol: `!`) means to multiply all whole numbers from the chosen number down to 1.\n",
        "\n",
        "For example: calculate the factorial of 5\n",
        "\n",
        "```bash\n",
        "5! = 5 × 4 × 3 × 2 × 1 = 120\n",
        "```\n",
        "\n",
        "Output:\n",
        "\n",
        "```bash\n",
        "120\n",
        "```"
      ]
    },
    {
      "cell_type": "code",
      "execution_count": null,
      "metadata": {
        "id": "lzXxHegx3Rkc",
        "colab": {
          "base_uri": "https://localhost:8080/"
        },
        "outputId": "8033630f-feab-47aa-e95b-48172485452e"
      },
      "outputs": [
        {
          "output_type": "stream",
          "name": "stdout",
          "text": [
            "Enter the number : 4\n",
            "factorial of 4 is 24\n"
          ]
        }
      ],
      "source": [
        "# Write code here\n",
        "numb=int(input('Enter the number : '))\n",
        "factorial =1\n",
        "if numb < 0:\n",
        "  print(\"Sorry! factorial does not exit for negative numbers \")\n",
        "elif numb == 1:\n",
        "  print(\"the factorial of zero is 1\")\n",
        "else:\n",
        "  for i in range(1, numb+1):\n",
        "    factorial = factorial*i\n",
        "  print(f\"factorial of {numb} is {factorial}\")\n",
        "\n"
      ]
    },
    {
      "cell_type": "markdown",
      "metadata": {
        "id": "-17IOi-g3UpU"
      },
      "source": [
        "### `Problem 5` - Reverse a given integer number.\n",
        "\n",
        "Example:\n",
        "\n",
        "`Input:`\n",
        "\n",
        "```bash\n",
        "76542\n",
        "```\n",
        "\n",
        "`Output:`\n",
        "\n",
        "```bash\n",
        "24567\n",
        "```"
      ]
    },
    {
      "cell_type": "code",
      "execution_count": null,
      "metadata": {
        "id": "wJwLpKCr3aVA",
        "colab": {
          "base_uri": "https://localhost:8080/"
        },
        "outputId": "85bd016a-a31d-48f1-9ebc-2c475b1279e8"
      },
      "outputs": [
        {
          "output_type": "stream",
          "name": "stdout",
          "text": [
            "Enter the number :4569\n",
            "given number:  4569\n",
            "reverse number:  9654\n"
          ]
        }
      ],
      "source": [
        "# Write code here\n",
        "numb=int(input('Enter the number :'))\n",
        "rev_num = int(str(numb)[::-1])\n",
        "\n",
        "print(\"given number: \",numb)\n",
        "print(\"reverse number: \", rev_num)"
      ]
    },
    {
      "cell_type": "markdown",
      "metadata": {
        "id": "-t8PJQaY3sHf"
      },
      "source": [
        "### `Problem 6`: Take a user input as integer N. Find out the sum from 1 to N. If any number if divisible by 5, then skip that number. And if the sum is greater than 300, don't need to calculate the sum further more. Print the final result. And don't use for loop to solve this problem.\n",
        "\n",
        "**Example 1:**\n",
        "\n",
        "`Input:`\n",
        "\n",
        "```bash\n",
        "30\n",
        "```\n",
        "\n",
        "`Output:`\n",
        "\n",
        "```bash\n",
        "276\n",
        "```"
      ]
    },
    {
      "cell_type": "code",
      "execution_count": 16,
      "metadata": {
        "id": "GZB6mGMP3ujT",
        "colab": {
          "base_uri": "https://localhost:8080/"
        },
        "outputId": "dd669df1-1da0-433f-a732-f3ed00229d81"
      },
      "outputs": [
        {
          "output_type": "stream",
          "name": "stdout",
          "text": [
            "Enter a number: 30\n",
            "Final result: 303\n"
          ]
        }
      ],
      "source": [
        "# Write code here\n",
        "N = int(input(\"Enter a number: \"))\n",
        "\n",
        "sum = 0\n",
        "i = 1\n",
        "\n",
        "while i <= N:\n",
        " if i % 5 == 0:\n",
        "  i += 1\n",
        "  continue\n",
        "\n",
        " sum += i\n",
        "\n",
        " if sum > 300:\n",
        "  break\n",
        "\n",
        " i += 1\n",
        "\n",
        "print(\"Final result:\", sum)\n"
      ]
    },
    {
      "cell_type": "markdown",
      "metadata": {
        "id": "Q7ggImeA3xm4"
      },
      "source": [
        "0### `Problem 7`: Write a program that keeps on accepting a number from the user until the user enters Zero. Display the sum and average of all the numbers."
      ]
    },
    {
      "cell_type": "code",
      "execution_count": 20,
      "metadata": {
        "id": "t_YDSZDe4Kdo",
        "colab": {
          "base_uri": "https://localhost:8080/"
        },
        "outputId": "3438d22f-449e-4684-86bd-10d7b071d7d2"
      },
      "outputs": [
        {
          "output_type": "stream",
          "name": "stdout",
          "text": [
            "Input some integers to calculate their sum and average. Input 0 to exit.\n",
            "7\n",
            "8\n",
            "9\n",
            "10\n",
            "0\n",
            "Average of the above numbers is: 8.5\n",
            "sum of the above numbers is : 34.0\n"
          ]
        }
      ],
      "source": [
        "# Write code here\n",
        "\n",
        "print(\"Input some integers to calculate their sum and average. Input 0 to exit.\")\n",
        "\n",
        "# Initialize variables for count, sum, and the first number to 1\n",
        "count = 0\n",
        "sum = 0.0\n",
        "number = 1\n",
        "\n",
        "# Iterate until the user inputs 0\n",
        "while number != 0:\n",
        "    # Prompt the user to input a number and convert it to an integer\n",
        "    number = int(input(\"\"))\n",
        "\n",
        "    # Add the entered number to the sum\n",
        "    sum = sum + number\n",
        "\n",
        "    # Increment the count of entered numbers\n",
        "    count += 1\n",
        "\n",
        "# Check if no numbers were entered\n",
        "if count == 0:\n",
        "    print(\"Input some numbers\")\n",
        "else:\n",
        "    # Calculate and display the average and sum of the entered numbers\n",
        "    print(\"Average of the above numbers is:\", sum / (count-1))\n",
        "    print(\"sum of the above numbers is :\",sum)\n",
        ""
      ]
    },
    {
      "cell_type": "markdown",
      "metadata": {
        "id": "6EhvEMvm4R7s"
      },
      "source": [
        "### `Problem 8`: Write a program which will find all such numbers which are divisible by 7 but are not a multiple of 5, between 2000 and 3200 (both included). The numbers obtained should be printed in a comma-separated sequence on a single line."
      ]
    },
    {
      "cell_type": "code",
      "execution_count": 26,
      "metadata": {
        "id": "d6RgP1B34T6c",
        "colab": {
          "base_uri": "https://localhost:8080/"
        },
        "outputId": "7420208e-84c4-44d0-a78b-2c06f6209e8d"
      },
      "outputs": [
        {
          "output_type": "stream",
          "name": "stdout",
          "text": [
            "[2002, 2009, 2016, 2023, 2037, 2044, 2051, 2058, 2072, 2079, 2086, 2093, 2107, 2114, 2121, 2128, 2142, 2149, 2156, 2163, 2177, 2184, 2191, 2198, 2212, 2219, 2226, 2233, 2247, 2254, 2261, 2268, 2282, 2289, 2296, 2303, 2317, 2324, 2331, 2338, 2352, 2359, 2366, 2373, 2387, 2394, 2401, 2408, 2422, 2429, 2436, 2443, 2457, 2464, 2471, 2478, 2492, 2499, 2506, 2513, 2527, 2534, 2541, 2548, 2562, 2569, 2576, 2583, 2597, 2604, 2611, 2618, 2632, 2639, 2646, 2653, 2667, 2674, 2681, 2688, 2702, 2709, 2716, 2723, 2737, 2744, 2751, 2758, 2772, 2779, 2786, 2793, 2807, 2814, 2821, 2828, 2842, 2849, 2856, 2863, 2877, 2884, 2891, 2898, 2912, 2919, 2926, 2933, 2947, 2954, 2961, 2968, 2982, 2989, 2996, 3003, 3017, 3024, 3031, 3038, 3052, 3059, 3066, 3073, 3087, 3094, 3101, 3108, 3122, 3129, 3136, 3143, 3157, 3164, 3171, 3178, 3192, 3199]\n"
          ]
        }
      ],
      "source": [
        "# Write code here\n",
        "num = [i for i in range(2000, 3201) if (i % 7 == 0) and (i % 5 != 0)]\n",
        "print(num)\n",
        "\n",
        "\n",
        "#for i in range(2000,3200):\n",
        "#  if (i % 7 ==0) and (i%5!=0):\n",
        "#    print(i, end=',')"
      ]
    },
    {
      "cell_type": "markdown",
      "metadata": {
        "id": "tYvmRR-G4Vp4"
      },
      "source": [
        "### `Problem 9`: Write a program, which will find all such numbers between 1000 and 3000 (both included) such that each digit of the number is an even number. The numbers obtained should be printed in a space-separated sequence on a single line.\n",
        "\n"
      ]
    },
    {
      "cell_type": "code",
      "execution_count": 25,
      "metadata": {
        "id": "k6Gs1kIf4k19",
        "colab": {
          "base_uri": "https://localhost:8080/"
        },
        "outputId": "604404b0-d386-4d31-ffc9-2ce02bad6385"
      },
      "outputs": [
        {
          "output_type": "stream",
          "name": "stdout",
          "text": [
            "2000-2002-2004-2006-2008-2020-2022-2024-2026-2028-2040-2042-2044-2046-2048-2060-2062-2064-2066-2068-2080-2082-2084-2086-2088-2200-2202-2204-2206-2208-2220-2222-2224-2226-2228-2240-2242-2244-2246-2248-2260-2262-2264-2266-2268-2280-2282-2284-2286-2288-2400-2402-2404-2406-2408-2420-2422-2424-2426-2428-2440-2442-2444-2446-2448-2460-2462-2464-2466-2468-2480-2482-2484-2486-2488-2600-2602-2604-2606-2608-2620-2622-2624-2626-2628-2640-2642-2644-2646-2648-2660-2662-2664-2666-2668-2680-2682-2684-2686-2688-2800-2802-2804-2806-2808-2820-2822-2824-2826-2828-2840-2842-2844-2846-2848-2860-2862-2864-2866-2868-2880-2882-2884-2886-2888\n"
          ]
        }
      ],
      "source": [
        "# Write code here\n",
        "values=[]\n",
        "for x in range(1000,3000):\n",
        "    s=str(x)\n",
        "    if (int(s[0]) %2 == 0) and (int(s[1]) %2 == 0) and (int(s[2]) %2 == 0) and (int(s[3]) %2 == 0):\n",
        "        values.append(s)\n",
        "print (\"-\".join(values))"
      ]
    },
    {
      "cell_type": "markdown",
      "metadata": {
        "id": "3fsAIAhK5GYY"
      },
      "source": [
        "### `Problem 10`:Write a program to print whether a given number is a prime number or not"
      ]
    },
    {
      "cell_type": "code",
      "execution_count": 23,
      "metadata": {
        "id": "j6y91lxy5LZs",
        "colab": {
          "base_uri": "https://localhost:8080/"
        },
        "outputId": "612cdd7d-cecd-42a2-ea2d-4b067b6a8789"
      },
      "outputs": [
        {
          "output_type": "stream",
          "name": "stdout",
          "text": [
            "Enter the number : 5\n",
            "5 is a prime number\n"
          ]
        }
      ],
      "source": [
        "# Write code here\n",
        "num = int(input('Enter the number : '))\n",
        "flag = 0\n",
        "for i in range(2,num):\n",
        "  if num%i==0:\n",
        "    flag = 1\n",
        "    break\n",
        "if flag == 1:\n",
        "  print(f\" {num} is not a prime number\")\n",
        "else:\n",
        "  print(f\"{num} is a prime number\")"
      ]
    },
    {
      "cell_type": "code",
      "source": [
        "for i in range(2000,3200):\n",
        "  if (i % 7 ==0) and (i%5!=0):\n",
        "    print(i, end=',')"
      ],
      "metadata": {
        "colab": {
          "base_uri": "https://localhost:8080/"
        },
        "id": "HJMvWioJUBTq",
        "outputId": "f2ad5659-03cc-4ecb-be10-e147d3adc2d5"
      },
      "execution_count": 30,
      "outputs": [
        {
          "output_type": "stream",
          "name": "stdout",
          "text": [
            "2002,2009,2016,2023,2037,2044,2051,2058,2072,2079,2086,2093,2107,2114,2121,2128,2142,2149,2156,2163,2177,2184,2191,2198,2212,2219,2226,2233,2247,2254,2261,2268,2282,2289,2296,2303,2317,2324,2331,2338,2352,2359,2366,2373,2387,2394,2401,2408,2422,2429,2436,2443,2457,2464,2471,2478,2492,2499,2506,2513,2527,2534,2541,2548,2562,2569,2576,2583,2597,2604,2611,2618,2632,2639,2646,2653,2667,2674,2681,2688,2702,2709,2716,2723,2737,2744,2751,2758,2772,2779,2786,2793,2807,2814,2821,2828,2842,2849,2856,2863,2877,2884,2891,2898,2912,2919,2926,2933,2947,2954,2961,2968,2982,2989,2996,3003,3017,3024,3031,3038,3052,3059,3066,3073,3087,3094,3101,3108,3122,3129,3136,3143,3157,3164,3171,3178,3192,3199,"
          ]
        }
      ]
    },
    {
      "cell_type": "code",
      "source": [],
      "metadata": {
        "id": "0F3a67JzWqBc"
      },
      "execution_count": null,
      "outputs": []
    }
  ],
  "metadata": {
    "colab": {
      "provenance": []
    },
    "kernelspec": {
      "display_name": "Python 3",
      "name": "python3"
    },
    "language_info": {
      "name": "python"
    }
  },
  "nbformat": 4,
  "nbformat_minor": 0
}